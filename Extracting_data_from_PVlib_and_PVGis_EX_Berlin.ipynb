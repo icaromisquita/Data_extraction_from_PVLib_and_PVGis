{
  "cells": [
    {
      "cell_type": "markdown",
      "id": "eceacd32",
      "metadata": {
        "id": "eceacd32"
      },
      "source": [
        "# Extracting data from PVlib and PVGis"
      ]
    },
    {
      "cell_type": "markdown",
      "id": "dab12e92",
      "metadata": {
        "id": "dab12e92"
      },
      "source": [
        "### Installing the Package PVLib"
      ]
    },
    {
      "cell_type": "markdown",
      "source": [
        "Jupyter Notebook"
      ],
      "metadata": {
        "id": "-35DUdagpAQV"
      },
      "id": "-35DUdagpAQV"
    },
    {
      "cell_type": "code",
      "execution_count": null,
      "id": "8c4e03f9",
      "metadata": {
        "id": "8c4e03f9"
      },
      "outputs": [],
      "source": [
        "# conda install -c pvlib pvlib "
      ]
    },
    {
      "cell_type": "markdown",
      "source": [
        "Google Colab"
      ],
      "metadata": {
        "id": "zktg6IoepFoa"
      },
      "id": "zktg6IoepFoa"
    },
    {
      "cell_type": "code",
      "source": [
        "# pip install pvlib"
      ],
      "metadata": {
        "colab": {
          "base_uri": "https://localhost:8080/"
        },
        "id": "iej0ab3mpJj1",
        "outputId": "ace25c10-96ee-47aa-e281-a04ca5788f0b"
      },
      "id": "iej0ab3mpJj1",
      "execution_count": null,
      "outputs": [
        {
          "output_type": "stream",
          "name": "stdout",
          "text": [
            "Looking in indexes: https://pypi.org/simple, https://us-python.pkg.dev/colab-wheels/public/simple/\n",
            "Collecting pvlib\n",
            "  Downloading pvlib-0.9.4-py3-none-any.whl (29.0 MB)\n",
            "\u001b[2K     \u001b[90m━━━━━━━━━━━━━━━━━━━━━━━━━━━━━━━━━━━━━━━━\u001b[0m \u001b[32m29.0/29.0 MB\u001b[0m \u001b[31m49.7 MB/s\u001b[0m eta \u001b[36m0:00:00\u001b[0m\n",
            "\u001b[?25hRequirement already satisfied: numpy>=1.16.0 in /usr/local/lib/python3.9/dist-packages (from pvlib) (1.22.4)\n",
            "Requirement already satisfied: h5py in /usr/local/lib/python3.9/dist-packages (from pvlib) (3.1.0)\n",
            "Requirement already satisfied: scipy>=1.4.0 in /usr/local/lib/python3.9/dist-packages (from pvlib) (1.10.1)\n",
            "Requirement already satisfied: pytz in /usr/local/lib/python3.9/dist-packages (from pvlib) (2022.7.1)\n",
            "Requirement already satisfied: requests in /usr/local/lib/python3.9/dist-packages (from pvlib) (2.25.1)\n",
            "Requirement already satisfied: pandas>=0.25.0 in /usr/local/lib/python3.9/dist-packages (from pvlib) (1.3.5)\n",
            "Requirement already satisfied: python-dateutil>=2.7.3 in /usr/local/lib/python3.9/dist-packages (from pandas>=0.25.0->pvlib) (2.8.2)\n",
            "Requirement already satisfied: certifi>=2017.4.17 in /usr/local/lib/python3.9/dist-packages (from requests->pvlib) (2022.12.7)\n",
            "Requirement already satisfied: urllib3<1.27,>=1.21.1 in /usr/local/lib/python3.9/dist-packages (from requests->pvlib) (1.26.14)\n",
            "Requirement already satisfied: chardet<5,>=3.0.2 in /usr/local/lib/python3.9/dist-packages (from requests->pvlib) (4.0.0)\n",
            "Requirement already satisfied: idna<3,>=2.5 in /usr/local/lib/python3.9/dist-packages (from requests->pvlib) (2.10)\n",
            "Requirement already satisfied: six>=1.5 in /usr/local/lib/python3.9/dist-packages (from python-dateutil>=2.7.3->pandas>=0.25.0->pvlib) (1.15.0)\n",
            "Installing collected packages: pvlib\n",
            "Successfully installed pvlib-0.9.4\n"
          ]
        }
      ]
    },
    {
      "cell_type": "code",
      "execution_count": null,
      "id": "0833e217",
      "metadata": {
        "id": "0833e217"
      },
      "outputs": [],
      "source": [
        "import pvlib\n",
        "import pandas as pd\n",
        "import matplotlib.pyplot as plt\n",
        "import matplotlib.dates as mdates\n",
        "# The next line is to make the plots appear in the notebook\n",
        "%matplotlib inline "
      ]
    },
    {
      "cell_type": "code",
      "execution_count": null,
      "id": "457d0134",
      "metadata": {
        "id": "457d0134"
      },
      "outputs": [],
      "source": [
        "def obtain_panel_power_data(lat, lon, start, end, name, tilt, azimuth, panels, peakpower):\n",
        "    \"\"\"\n",
        "    Determine the solar radiation and generated power for a given solar panel configuration.\n",
        "    For each hour between startdate and enddate the data is retrieved and calculated.\n",
        "    :param lat: Latitude of the location\n",
        "    :param lon: Longitude of the location\n",
        "    :param start: Startdate for data retrievel\n",
        "    :param end: Endddate for data retrievel\n",
        "    :param name: Name of the panel location on the object\n",
        "    :param tilt: Tilt of the solar panels (0 is flat, 90 is standing straight)\n",
        "    :param azimuth: Direction the panels, 0 is South, negative from south to east, positive from south to west\n",
        "    :param panels: Number of panels on the location\n",
        "    :param peakpower: Peakpower per panel\n",
        "    :return:\n",
        "    \"\"\"\n",
        "    if panels > 0:\n",
        "        poa, _, _ = pvlib.iotools.get_pvgis_hourly(\n",
        "            latitude=lat, longitude=lon, start=start, end=end,\n",
        "            surface_tilt=tilt, surface_azimuth=-azimuth,\n",
        "            pvcalculation=True, peakpower=peakpower*panels,\n",
        "            components=True, raddatabase='PVGIS-SARAH2', url='https://re.jrc.ec.europa.eu/api/v5_2/',\n",
        "            )\n",
        "    else:\n",
        "        poa, _, _ = pvlib.iotools.get_pvgis_hourly(\n",
        "            latitude=lat, longitude=lon, start=start, end=end,\n",
        "            surface_tilt=tilt, surface_azimuth=-azimuth,\n",
        "            pvcalculation=False,\n",
        "            components=True, raddatabase='PVGIS-SARAH2', url='https://re.jrc.ec.europa.eu/api/v5_2/',\n",
        "            )\n",
        "        poa['P'] = 0.0\n",
        "    poa['date'] = pd.to_datetime(poa.index.date)\n",
        "    poa['location'] = name\n",
        "    poa['P'] = poa['P'].div(1000)    # change unit to kWh\n",
        "    return poa"
      ]
    },
    {
      "cell_type": "code",
      "execution_count": null,
      "id": "71c5c0aa",
      "metadata": {
        "id": "71c5c0aa"
      },
      "outputs": [],
      "source": [
        "def get_data_for_location(lat, lon, panels,\n",
        "                          startdate = pd.Timestamp('2005-01-01'), enddate = pd.Timestamp('2020-12-31')):\n",
        "    \"\"\"\n",
        "    Determine the solar radiation and generated power for a given solar panel configuration.\n",
        "    For each hour between startdate and enddate the data is retrieved and calculated.\n",
        "    :param lat: Latitude of the location\n",
        "    :param lon: Longitude of the location\n",
        "    :param panels: panel locations\n",
        "    :return: \n",
        "    \"\"\"\n",
        "    poas = {}\n",
        "    poalist = []\n",
        "    for panel in panels:\n",
        "        poa = obtain_panel_power_data(lat, lon, startdate, enddate, \n",
        "                                      panel['name'], panel['tilt'], \n",
        "                                      panel['azimuth'], panel['nopanels'], panel['power'])\n",
        "        poas[panel['name']] = poa\n",
        "        poalist.append(poa)\n",
        "                          \n",
        "    dataset = pd.concat(poalist).sort_index()\n",
        "    \n",
        "    dataset = pd.merge(\n",
        "        pvlib.solarposition.get_solarposition(dataset.index.unique(), lat, lon)[['zenith', 'elevation', 'azimuth']], \n",
        "        dataset,\n",
        "        left_index=True, right_index=True).drop_duplicates()\n",
        "    dataset = dataset.sort_values(['time', 'location'])\n",
        "    dataset['month'] = dataset.index.month\n",
        "    dataset['season'] = 1 + (dataset.month - 1) // 3\n",
        "    return dataset"
      ]
    },
    {
      "cell_type": "markdown",
      "id": "3e2377e6",
      "metadata": {
        "id": "3e2377e6"
      },
      "source": [
        "## Getting the Database"
      ]
    },
    {
      "cell_type": "markdown",
      "id": "1e48c22d",
      "metadata": {
        "id": "1e48c22d"
      },
      "source": [
        "Configuration of the PV System"
      ]
    },
    {
      "cell_type": "code",
      "execution_count": null,
      "id": "6dfbcb27",
      "metadata": {
        "id": "6dfbcb27"
      },
      "outputs": [],
      "source": [
        "### PANEL CONFIGURATION\n",
        "names    = ['front', 'back']  # PV configuration in relation to the Sun, front facing it and back with it's back facing it\n",
        "tilts    = [35     , 35    ]  # PV Modules tilt Angle - In this analysis was defined as 35º\n",
        "azimuths = [0     , 180   ]   # pvlib uses 0=North, 90=East, 180=South, 270=West as a convention, \n",
        "                              # To maximize the output the surface azimuth for the North Hemisphere should be 180(South)\n",
        "nopanels = [5      , 10    ]  # Number of panels \n",
        "power    = [0.385  , 0.385 ]  # Individual power of the panels in KWp\n",
        "\n",
        "panel_conf = []\n",
        "for n, t, a, no, p in zip(names, tilts, azimuths, nopanels, power):\n",
        "    panel_conf.append({\"name\": n, \"tilt\": t, \"azimuth\": a, \"nopanels\": no, 'power': p})"
      ]
    },
    {
      "cell_type": "markdown",
      "id": "b6a42a42",
      "metadata": {
        "id": "b6a42a42"
      },
      "source": [
        "Making some assumptions: </br>\n",
        "The PV modules considered will be FIXED and installed in roofs with 35º of TILT ANGLE. The Optimal tilt angle for Germany is 35-40º </br>\n",
        "The analysis is for modules installed in the NORTH hemisphere. </br>\n",
        "The azimuth considered will be 180º facing the TRUE SOUTH (back) and TRUE NORTH (front). </br>\n",
        "The number of PV modules(panels) considered will be 5 for FRONT and 10 for BACK. </br>\n",
        "The PV nominal power considered will be 385 Wp </br> \n"
      ]
    },
    {
      "cell_type": "code",
      "execution_count": null,
      "id": "87f9af4f",
      "metadata": {
        "id": "87f9af4f"
      },
      "outputs": [],
      "source": [
        "#Obtaining the data for Berlin\n",
        "lat = 52.5\n",
        "lon = 13.4\n",
        "df = get_data_for_location(lat, lon, panel_conf) # calling the function and obtaining the data for the given location."
      ]
    },
    {
      "cell_type": "markdown",
      "id": "ee723d6b",
      "metadata": {
        "id": "ee723d6b"
      },
      "source": [
        "# Exploring the dataset"
      ]
    },
    {
      "cell_type": "code",
      "execution_count": null,
      "id": "03586fc7",
      "metadata": {
        "colab": {
          "base_uri": "https://localhost:8080/",
          "height": 388
        },
        "id": "03586fc7",
        "outputId": "95d50b35-15d9-4116-a068-05753651736b"
      },
      "outputs": [
        {
          "output_type": "execute_result",
          "data": {
            "text/plain": [
              "                               zenith  elevation    azimuth    P  poa_direct  \\\n",
              "time                                                                           \n",
              "2005-01-01 00:11:00+00:00  148.280002 -58.280002  27.496315  0.0         0.0   \n",
              "2005-01-01 00:11:00+00:00  148.280002 -58.280002  27.496315  0.0         0.0   \n",
              "2005-01-01 01:11:00+00:00  142.557186 -52.557186  49.775589  0.0         0.0   \n",
              "2005-01-01 01:11:00+00:00  142.557186 -52.557186  49.775589  0.0         0.0   \n",
              "2005-01-01 02:11:00+00:00  134.776168 -44.776168  67.127870  0.0         0.0   \n",
              "\n",
              "                           poa_sky_diffuse  poa_ground_diffuse  \\\n",
              "time                                                             \n",
              "2005-01-01 00:11:00+00:00              0.0                 0.0   \n",
              "2005-01-01 00:11:00+00:00              0.0                 0.0   \n",
              "2005-01-01 01:11:00+00:00              0.0                 0.0   \n",
              "2005-01-01 01:11:00+00:00              0.0                 0.0   \n",
              "2005-01-01 02:11:00+00:00              0.0                 0.0   \n",
              "\n",
              "                           solar_elevation  temp_air  wind_speed  Int  \\\n",
              "time                                                                    \n",
              "2005-01-01 00:11:00+00:00              0.0      6.79        3.66    0   \n",
              "2005-01-01 00:11:00+00:00              0.0      6.79        3.66    0   \n",
              "2005-01-01 01:11:00+00:00              0.0      6.72        3.52    0   \n",
              "2005-01-01 01:11:00+00:00              0.0      6.72        3.52    0   \n",
              "2005-01-01 02:11:00+00:00              0.0      6.74        3.31    0   \n",
              "\n",
              "                                date location  month  season  \n",
              "time                                                          \n",
              "2005-01-01 00:11:00+00:00 2005-01-01     back      1       1  \n",
              "2005-01-01 00:11:00+00:00 2005-01-01    front      1       1  \n",
              "2005-01-01 01:11:00+00:00 2005-01-01     back      1       1  \n",
              "2005-01-01 01:11:00+00:00 2005-01-01    front      1       1  \n",
              "2005-01-01 02:11:00+00:00 2005-01-01     back      1       1  "
            ],
            "text/html": [
              "\n",
              "  <div id=\"df-73389ea3-ca9a-4ed5-9304-21b02690df8c\">\n",
              "    <div class=\"colab-df-container\">\n",
              "      <div>\n",
              "<style scoped>\n",
              "    .dataframe tbody tr th:only-of-type {\n",
              "        vertical-align: middle;\n",
              "    }\n",
              "\n",
              "    .dataframe tbody tr th {\n",
              "        vertical-align: top;\n",
              "    }\n",
              "\n",
              "    .dataframe thead th {\n",
              "        text-align: right;\n",
              "    }\n",
              "</style>\n",
              "<table border=\"1\" class=\"dataframe\">\n",
              "  <thead>\n",
              "    <tr style=\"text-align: right;\">\n",
              "      <th></th>\n",
              "      <th>zenith</th>\n",
              "      <th>elevation</th>\n",
              "      <th>azimuth</th>\n",
              "      <th>P</th>\n",
              "      <th>poa_direct</th>\n",
              "      <th>poa_sky_diffuse</th>\n",
              "      <th>poa_ground_diffuse</th>\n",
              "      <th>solar_elevation</th>\n",
              "      <th>temp_air</th>\n",
              "      <th>wind_speed</th>\n",
              "      <th>Int</th>\n",
              "      <th>date</th>\n",
              "      <th>location</th>\n",
              "      <th>month</th>\n",
              "      <th>season</th>\n",
              "    </tr>\n",
              "    <tr>\n",
              "      <th>time</th>\n",
              "      <th></th>\n",
              "      <th></th>\n",
              "      <th></th>\n",
              "      <th></th>\n",
              "      <th></th>\n",
              "      <th></th>\n",
              "      <th></th>\n",
              "      <th></th>\n",
              "      <th></th>\n",
              "      <th></th>\n",
              "      <th></th>\n",
              "      <th></th>\n",
              "      <th></th>\n",
              "      <th></th>\n",
              "      <th></th>\n",
              "    </tr>\n",
              "  </thead>\n",
              "  <tbody>\n",
              "    <tr>\n",
              "      <th>2005-01-01 00:11:00+00:00</th>\n",
              "      <td>148.280002</td>\n",
              "      <td>-58.280002</td>\n",
              "      <td>27.496315</td>\n",
              "      <td>0.0</td>\n",
              "      <td>0.0</td>\n",
              "      <td>0.0</td>\n",
              "      <td>0.0</td>\n",
              "      <td>0.0</td>\n",
              "      <td>6.79</td>\n",
              "      <td>3.66</td>\n",
              "      <td>0</td>\n",
              "      <td>2005-01-01</td>\n",
              "      <td>back</td>\n",
              "      <td>1</td>\n",
              "      <td>1</td>\n",
              "    </tr>\n",
              "    <tr>\n",
              "      <th>2005-01-01 00:11:00+00:00</th>\n",
              "      <td>148.280002</td>\n",
              "      <td>-58.280002</td>\n",
              "      <td>27.496315</td>\n",
              "      <td>0.0</td>\n",
              "      <td>0.0</td>\n",
              "      <td>0.0</td>\n",
              "      <td>0.0</td>\n",
              "      <td>0.0</td>\n",
              "      <td>6.79</td>\n",
              "      <td>3.66</td>\n",
              "      <td>0</td>\n",
              "      <td>2005-01-01</td>\n",
              "      <td>front</td>\n",
              "      <td>1</td>\n",
              "      <td>1</td>\n",
              "    </tr>\n",
              "    <tr>\n",
              "      <th>2005-01-01 01:11:00+00:00</th>\n",
              "      <td>142.557186</td>\n",
              "      <td>-52.557186</td>\n",
              "      <td>49.775589</td>\n",
              "      <td>0.0</td>\n",
              "      <td>0.0</td>\n",
              "      <td>0.0</td>\n",
              "      <td>0.0</td>\n",
              "      <td>0.0</td>\n",
              "      <td>6.72</td>\n",
              "      <td>3.52</td>\n",
              "      <td>0</td>\n",
              "      <td>2005-01-01</td>\n",
              "      <td>back</td>\n",
              "      <td>1</td>\n",
              "      <td>1</td>\n",
              "    </tr>\n",
              "    <tr>\n",
              "      <th>2005-01-01 01:11:00+00:00</th>\n",
              "      <td>142.557186</td>\n",
              "      <td>-52.557186</td>\n",
              "      <td>49.775589</td>\n",
              "      <td>0.0</td>\n",
              "      <td>0.0</td>\n",
              "      <td>0.0</td>\n",
              "      <td>0.0</td>\n",
              "      <td>0.0</td>\n",
              "      <td>6.72</td>\n",
              "      <td>3.52</td>\n",
              "      <td>0</td>\n",
              "      <td>2005-01-01</td>\n",
              "      <td>front</td>\n",
              "      <td>1</td>\n",
              "      <td>1</td>\n",
              "    </tr>\n",
              "    <tr>\n",
              "      <th>2005-01-01 02:11:00+00:00</th>\n",
              "      <td>134.776168</td>\n",
              "      <td>-44.776168</td>\n",
              "      <td>67.127870</td>\n",
              "      <td>0.0</td>\n",
              "      <td>0.0</td>\n",
              "      <td>0.0</td>\n",
              "      <td>0.0</td>\n",
              "      <td>0.0</td>\n",
              "      <td>6.74</td>\n",
              "      <td>3.31</td>\n",
              "      <td>0</td>\n",
              "      <td>2005-01-01</td>\n",
              "      <td>back</td>\n",
              "      <td>1</td>\n",
              "      <td>1</td>\n",
              "    </tr>\n",
              "  </tbody>\n",
              "</table>\n",
              "</div>\n",
              "      <button class=\"colab-df-convert\" onclick=\"convertToInteractive('df-73389ea3-ca9a-4ed5-9304-21b02690df8c')\"\n",
              "              title=\"Convert this dataframe to an interactive table.\"\n",
              "              style=\"display:none;\">\n",
              "        \n",
              "  <svg xmlns=\"http://www.w3.org/2000/svg\" height=\"24px\"viewBox=\"0 0 24 24\"\n",
              "       width=\"24px\">\n",
              "    <path d=\"M0 0h24v24H0V0z\" fill=\"none\"/>\n",
              "    <path d=\"M18.56 5.44l.94 2.06.94-2.06 2.06-.94-2.06-.94-.94-2.06-.94 2.06-2.06.94zm-11 1L8.5 8.5l.94-2.06 2.06-.94-2.06-.94L8.5 2.5l-.94 2.06-2.06.94zm10 10l.94 2.06.94-2.06 2.06-.94-2.06-.94-.94-2.06-.94 2.06-2.06.94z\"/><path d=\"M17.41 7.96l-1.37-1.37c-.4-.4-.92-.59-1.43-.59-.52 0-1.04.2-1.43.59L10.3 9.45l-7.72 7.72c-.78.78-.78 2.05 0 2.83L4 21.41c.39.39.9.59 1.41.59.51 0 1.02-.2 1.41-.59l7.78-7.78 2.81-2.81c.8-.78.8-2.07 0-2.86zM5.41 20L4 18.59l7.72-7.72 1.47 1.35L5.41 20z\"/>\n",
              "  </svg>\n",
              "      </button>\n",
              "      \n",
              "  <style>\n",
              "    .colab-df-container {\n",
              "      display:flex;\n",
              "      flex-wrap:wrap;\n",
              "      gap: 12px;\n",
              "    }\n",
              "\n",
              "    .colab-df-convert {\n",
              "      background-color: #E8F0FE;\n",
              "      border: none;\n",
              "      border-radius: 50%;\n",
              "      cursor: pointer;\n",
              "      display: none;\n",
              "      fill: #1967D2;\n",
              "      height: 32px;\n",
              "      padding: 0 0 0 0;\n",
              "      width: 32px;\n",
              "    }\n",
              "\n",
              "    .colab-df-convert:hover {\n",
              "      background-color: #E2EBFA;\n",
              "      box-shadow: 0px 1px 2px rgba(60, 64, 67, 0.3), 0px 1px 3px 1px rgba(60, 64, 67, 0.15);\n",
              "      fill: #174EA6;\n",
              "    }\n",
              "\n",
              "    [theme=dark] .colab-df-convert {\n",
              "      background-color: #3B4455;\n",
              "      fill: #D2E3FC;\n",
              "    }\n",
              "\n",
              "    [theme=dark] .colab-df-convert:hover {\n",
              "      background-color: #434B5C;\n",
              "      box-shadow: 0px 1px 3px 1px rgba(0, 0, 0, 0.15);\n",
              "      filter: drop-shadow(0px 1px 2px rgba(0, 0, 0, 0.3));\n",
              "      fill: #FFFFFF;\n",
              "    }\n",
              "  </style>\n",
              "\n",
              "      <script>\n",
              "        const buttonEl =\n",
              "          document.querySelector('#df-73389ea3-ca9a-4ed5-9304-21b02690df8c button.colab-df-convert');\n",
              "        buttonEl.style.display =\n",
              "          google.colab.kernel.accessAllowed ? 'block' : 'none';\n",
              "\n",
              "        async function convertToInteractive(key) {\n",
              "          const element = document.querySelector('#df-73389ea3-ca9a-4ed5-9304-21b02690df8c');\n",
              "          const dataTable =\n",
              "            await google.colab.kernel.invokeFunction('convertToInteractive',\n",
              "                                                     [key], {});\n",
              "          if (!dataTable) return;\n",
              "\n",
              "          const docLinkHtml = 'Like what you see? Visit the ' +\n",
              "            '<a target=\"_blank\" href=https://colab.research.google.com/notebooks/data_table.ipynb>data table notebook</a>'\n",
              "            + ' to learn more about interactive tables.';\n",
              "          element.innerHTML = '';\n",
              "          dataTable['output_type'] = 'display_data';\n",
              "          await google.colab.output.renderOutput(dataTable, element);\n",
              "          const docLink = document.createElement('div');\n",
              "          docLink.innerHTML = docLinkHtml;\n",
              "          element.appendChild(docLink);\n",
              "        }\n",
              "      </script>\n",
              "    </div>\n",
              "  </div>\n",
              "  "
            ]
          },
          "metadata": {},
          "execution_count": 10
        }
      ],
      "source": [
        "df.head(5)"
      ]
    },
    {
      "cell_type": "raw",
      "id": "6926a42a",
      "metadata": {
        "id": "6926a42a"
      },
      "source": [
        "<font color=\"orange\">  \n",
        "A description of the variables:\n",
        "*  zenith - The zenith angle is the angle between the sun and the vertical. The zenith angle is similar to the elevation angle but it is measured from the vertical rather than from the horizontal, thus making the zenith angle = 90° - elevation.\n",
        "*  elevation - The maximum height of the sun in the sky at a particular time of year. This maximum elevation angle occurs at solar noon and depends on the latitude and declination angle.\n",
        "*  azimuth - The azimuth angle is the compass direction from which the sunlight is coming. At solar noon, the sun is always directly south in the northern hemisphere and directly north in the southern hemisphere.\n",
        "*  P - Nominal power of PV system in KWh\n",
        "*  poa_direct  - Beam (direct) irradiance on inclined plane (W/m²). It is used to describe solar radiation traveling in a straight line from the sun down to the surface of the earth. \n",
        "*  poa_sky_diffuse - Diffuse irradiance on inclined plane (W/m²). It is solar radiation reaching the Earth's surface after having been scattered from the direct solar beam by molecules or particulates in the atmosphere.\n",
        "*  poa_ground_diffuse - Reflected irradiance on inclined plane (W/m²). It is the reflected radiation from the ground surface or nearby obstacles (W/m²).\n",
        "*  solar_elevation - Sun height/elevation (degrees) - The same as elevation but taken from another reference point.\n",
        "*  temp_air - Air temperature at 2 m (Celsius degrees)\n",
        "*  wind_speed - Wind speed at 10 m (m/s)\n",
        "*  Int - Solar radiation reconstructed \n",
        "*  date - Date of the measurement daily basis\n",
        "*  location - The orientation of the modules in relation to the Sun.\n",
        "*  month - The month in numerical notation (1-12)\n",
        "*  season - The climatological seasons (Winter, Spring, Sommer and Autumn)\n",
        "</font>\n",
        "\n",
        "\n",
        "\n"
      ]
    },
    {
      "cell_type": "markdown",
      "id": "b0cdad26",
      "metadata": {
        "id": "b0cdad26"
      },
      "source": [
        " A illustration describing the Solar angles."
      ]
    },
    {
      "cell_type": "markdown",
      "id": "6dc07ff9",
      "metadata": {
        "id": "6dc07ff9"
      },
      "source": [
        "<center>\n",
        "<img src='https://hvac-eng.com/wp-content/uploads/2019/04/Orientation3.png'\n",
        "style=\"position:absolute; top:15px; left:100px; z-index:10; width:80px; height:80px; border:none;\" />\n",
        "<font size = 4>\n",
        "<figcaption> Solar Angles </figcaption> \n",
        "</font>\n",
        "</center>\n",
        "</figure>\n"
      ]
    },
    {
      "cell_type": "markdown",
      "id": "0aaab0e4",
      "metadata": {
        "id": "0aaab0e4"
      },
      "source": [
        "<figure>\n",
        "<center>\n",
        "<img src='https://www.researchgate.net/publication/354755033/figure/fig2/AS:1070891857362948@1632331923300/Schematic-depicting-the-solar-zenith-angle-solar-altitude-angle-and-solar-azimuth-angle.ppm' />\n",
        "<font size = 4>\n",
        "<figcaption>Solar Angles Description</figcaption></center>\n",
        "</font>\n",
        "</figure>\n"
      ]
    },
    {
      "cell_type": "code",
      "execution_count": null,
      "id": "0419856e",
      "metadata": {
        "colab": {
          "base_uri": "https://localhost:8080/",
          "height": 609
        },
        "id": "0419856e",
        "outputId": "cb064db9-0709-4001-d4f4-c24202887699"
      },
      "outputs": [
        {
          "output_type": "stream",
          "name": "stderr",
          "text": [
            "<ipython-input-11-4abcafedd842>:1: FutureWarning: Treating datetime data as categorical rather than numeric in `.describe` is deprecated and will be removed in a future version of pandas. Specify `datetime_is_numeric=True` to silence this warning and adopt the future behavior now.\n",
            "  df.describe(include= \"all\").round(2)\n"
          ]
        },
        {
          "output_type": "execute_result",
          "data": {
            "text/plain": [
              "           zenith  elevation    azimuth          P  poa_direct  \\\n",
              "count   280512.00  280512.00  280512.00  280512.00   280512.00   \n",
              "unique        NaN        NaN        NaN        NaN         NaN   \n",
              "top           NaN        NaN        NaN        NaN         NaN   \n",
              "freq          NaN        NaN        NaN        NaN         NaN   \n",
              "first         NaN        NaN        NaN        NaN         NaN   \n",
              "last          NaN        NaN        NaN        NaN         NaN   \n",
              "mean        89.67       0.33     178.81       0.27       55.38   \n",
              "std         29.69      29.69     102.37       0.45      142.29   \n",
              "min         29.07     -60.92       0.00       0.00        0.00   \n",
              "25%         67.91     -21.07      88.71       0.00        0.00   \n",
              "50%         89.69       0.31     180.00       0.00        0.00   \n",
              "75%        111.07      22.09     269.35       0.35       11.40   \n",
              "max        150.92      60.93     360.00       2.06      988.53   \n",
              "\n",
              "        poa_sky_diffuse  poa_ground_diffuse  solar_elevation   temp_air  \\\n",
              "count         280512.00           280512.00        280512.00  280512.00   \n",
              "unique              NaN                 NaN              NaN        NaN   \n",
              "top                 NaN                 NaN              NaN        NaN   \n",
              "freq                NaN                 NaN              NaN        NaN   \n",
              "first               NaN                 NaN              NaN        NaN   \n",
              "last                NaN                 NaN              NaN        NaN   \n",
              "mean              59.24                2.22            12.45      10.39   \n",
              "std               87.72                3.71            17.09       8.32   \n",
              "min                0.00                0.00            -0.60     -22.44   \n",
              "25%                0.00                0.00             0.00       4.15   \n",
              "50%                0.00                0.00             0.00      10.21   \n",
              "75%               98.00                2.79            21.97      16.62   \n",
              "max              417.34               16.86            60.93      37.39   \n",
              "\n",
              "        wind_speed       Int                 date location      month  \\\n",
              "count    280512.00  280512.0               280512   280512  280512.00   \n",
              "unique         NaN       NaN                 5844        2        NaN   \n",
              "top            NaN       NaN  2005-01-01 00:00:00     back        NaN   \n",
              "freq           NaN       NaN                   48   140256        NaN   \n",
              "first          NaN       NaN  2005-01-01 00:00:00      NaN        NaN   \n",
              "last           NaN       NaN  2020-12-31 00:00:00      NaN        NaN   \n",
              "mean          2.99       0.0                  NaN      NaN       6.52   \n",
              "std           1.38       0.0                  NaN      NaN       3.45   \n",
              "min           0.00       0.0                  NaN      NaN       1.00   \n",
              "25%           2.00       0.0                  NaN      NaN       4.00   \n",
              "50%           2.76       0.0                  NaN      NaN       7.00   \n",
              "75%           3.79       0.0                  NaN      NaN      10.00   \n",
              "max          12.34       0.0                  NaN      NaN      12.00   \n",
              "\n",
              "           season  \n",
              "count   280512.00  \n",
              "unique        NaN  \n",
              "top           NaN  \n",
              "freq          NaN  \n",
              "first         NaN  \n",
              "last          NaN  \n",
              "mean         2.51  \n",
              "std          1.12  \n",
              "min          1.00  \n",
              "25%          2.00  \n",
              "50%          3.00  \n",
              "75%          4.00  \n",
              "max          4.00  "
            ],
            "text/html": [
              "\n",
              "  <div id=\"df-2b376d0b-6ed1-47a5-8f4c-4bbb58ef9755\">\n",
              "    <div class=\"colab-df-container\">\n",
              "      <div>\n",
              "<style scoped>\n",
              "    .dataframe tbody tr th:only-of-type {\n",
              "        vertical-align: middle;\n",
              "    }\n",
              "\n",
              "    .dataframe tbody tr th {\n",
              "        vertical-align: top;\n",
              "    }\n",
              "\n",
              "    .dataframe thead th {\n",
              "        text-align: right;\n",
              "    }\n",
              "</style>\n",
              "<table border=\"1\" class=\"dataframe\">\n",
              "  <thead>\n",
              "    <tr style=\"text-align: right;\">\n",
              "      <th></th>\n",
              "      <th>zenith</th>\n",
              "      <th>elevation</th>\n",
              "      <th>azimuth</th>\n",
              "      <th>P</th>\n",
              "      <th>poa_direct</th>\n",
              "      <th>poa_sky_diffuse</th>\n",
              "      <th>poa_ground_diffuse</th>\n",
              "      <th>solar_elevation</th>\n",
              "      <th>temp_air</th>\n",
              "      <th>wind_speed</th>\n",
              "      <th>Int</th>\n",
              "      <th>date</th>\n",
              "      <th>location</th>\n",
              "      <th>month</th>\n",
              "      <th>season</th>\n",
              "    </tr>\n",
              "  </thead>\n",
              "  <tbody>\n",
              "    <tr>\n",
              "      <th>count</th>\n",
              "      <td>280512.00</td>\n",
              "      <td>280512.00</td>\n",
              "      <td>280512.00</td>\n",
              "      <td>280512.00</td>\n",
              "      <td>280512.00</td>\n",
              "      <td>280512.00</td>\n",
              "      <td>280512.00</td>\n",
              "      <td>280512.00</td>\n",
              "      <td>280512.00</td>\n",
              "      <td>280512.00</td>\n",
              "      <td>280512.0</td>\n",
              "      <td>280512</td>\n",
              "      <td>280512</td>\n",
              "      <td>280512.00</td>\n",
              "      <td>280512.00</td>\n",
              "    </tr>\n",
              "    <tr>\n",
              "      <th>unique</th>\n",
              "      <td>NaN</td>\n",
              "      <td>NaN</td>\n",
              "      <td>NaN</td>\n",
              "      <td>NaN</td>\n",
              "      <td>NaN</td>\n",
              "      <td>NaN</td>\n",
              "      <td>NaN</td>\n",
              "      <td>NaN</td>\n",
              "      <td>NaN</td>\n",
              "      <td>NaN</td>\n",
              "      <td>NaN</td>\n",
              "      <td>5844</td>\n",
              "      <td>2</td>\n",
              "      <td>NaN</td>\n",
              "      <td>NaN</td>\n",
              "    </tr>\n",
              "    <tr>\n",
              "      <th>top</th>\n",
              "      <td>NaN</td>\n",
              "      <td>NaN</td>\n",
              "      <td>NaN</td>\n",
              "      <td>NaN</td>\n",
              "      <td>NaN</td>\n",
              "      <td>NaN</td>\n",
              "      <td>NaN</td>\n",
              "      <td>NaN</td>\n",
              "      <td>NaN</td>\n",
              "      <td>NaN</td>\n",
              "      <td>NaN</td>\n",
              "      <td>2005-01-01 00:00:00</td>\n",
              "      <td>back</td>\n",
              "      <td>NaN</td>\n",
              "      <td>NaN</td>\n",
              "    </tr>\n",
              "    <tr>\n",
              "      <th>freq</th>\n",
              "      <td>NaN</td>\n",
              "      <td>NaN</td>\n",
              "      <td>NaN</td>\n",
              "      <td>NaN</td>\n",
              "      <td>NaN</td>\n",
              "      <td>NaN</td>\n",
              "      <td>NaN</td>\n",
              "      <td>NaN</td>\n",
              "      <td>NaN</td>\n",
              "      <td>NaN</td>\n",
              "      <td>NaN</td>\n",
              "      <td>48</td>\n",
              "      <td>140256</td>\n",
              "      <td>NaN</td>\n",
              "      <td>NaN</td>\n",
              "    </tr>\n",
              "    <tr>\n",
              "      <th>first</th>\n",
              "      <td>NaN</td>\n",
              "      <td>NaN</td>\n",
              "      <td>NaN</td>\n",
              "      <td>NaN</td>\n",
              "      <td>NaN</td>\n",
              "      <td>NaN</td>\n",
              "      <td>NaN</td>\n",
              "      <td>NaN</td>\n",
              "      <td>NaN</td>\n",
              "      <td>NaN</td>\n",
              "      <td>NaN</td>\n",
              "      <td>2005-01-01 00:00:00</td>\n",
              "      <td>NaN</td>\n",
              "      <td>NaN</td>\n",
              "      <td>NaN</td>\n",
              "    </tr>\n",
              "    <tr>\n",
              "      <th>last</th>\n",
              "      <td>NaN</td>\n",
              "      <td>NaN</td>\n",
              "      <td>NaN</td>\n",
              "      <td>NaN</td>\n",
              "      <td>NaN</td>\n",
              "      <td>NaN</td>\n",
              "      <td>NaN</td>\n",
              "      <td>NaN</td>\n",
              "      <td>NaN</td>\n",
              "      <td>NaN</td>\n",
              "      <td>NaN</td>\n",
              "      <td>2020-12-31 00:00:00</td>\n",
              "      <td>NaN</td>\n",
              "      <td>NaN</td>\n",
              "      <td>NaN</td>\n",
              "    </tr>\n",
              "    <tr>\n",
              "      <th>mean</th>\n",
              "      <td>89.67</td>\n",
              "      <td>0.33</td>\n",
              "      <td>178.81</td>\n",
              "      <td>0.27</td>\n",
              "      <td>55.38</td>\n",
              "      <td>59.24</td>\n",
              "      <td>2.22</td>\n",
              "      <td>12.45</td>\n",
              "      <td>10.39</td>\n",
              "      <td>2.99</td>\n",
              "      <td>0.0</td>\n",
              "      <td>NaN</td>\n",
              "      <td>NaN</td>\n",
              "      <td>6.52</td>\n",
              "      <td>2.51</td>\n",
              "    </tr>\n",
              "    <tr>\n",
              "      <th>std</th>\n",
              "      <td>29.69</td>\n",
              "      <td>29.69</td>\n",
              "      <td>102.37</td>\n",
              "      <td>0.45</td>\n",
              "      <td>142.29</td>\n",
              "      <td>87.72</td>\n",
              "      <td>3.71</td>\n",
              "      <td>17.09</td>\n",
              "      <td>8.32</td>\n",
              "      <td>1.38</td>\n",
              "      <td>0.0</td>\n",
              "      <td>NaN</td>\n",
              "      <td>NaN</td>\n",
              "      <td>3.45</td>\n",
              "      <td>1.12</td>\n",
              "    </tr>\n",
              "    <tr>\n",
              "      <th>min</th>\n",
              "      <td>29.07</td>\n",
              "      <td>-60.92</td>\n",
              "      <td>0.00</td>\n",
              "      <td>0.00</td>\n",
              "      <td>0.00</td>\n",
              "      <td>0.00</td>\n",
              "      <td>0.00</td>\n",
              "      <td>-0.60</td>\n",
              "      <td>-22.44</td>\n",
              "      <td>0.00</td>\n",
              "      <td>0.0</td>\n",
              "      <td>NaN</td>\n",
              "      <td>NaN</td>\n",
              "      <td>1.00</td>\n",
              "      <td>1.00</td>\n",
              "    </tr>\n",
              "    <tr>\n",
              "      <th>25%</th>\n",
              "      <td>67.91</td>\n",
              "      <td>-21.07</td>\n",
              "      <td>88.71</td>\n",
              "      <td>0.00</td>\n",
              "      <td>0.00</td>\n",
              "      <td>0.00</td>\n",
              "      <td>0.00</td>\n",
              "      <td>0.00</td>\n",
              "      <td>4.15</td>\n",
              "      <td>2.00</td>\n",
              "      <td>0.0</td>\n",
              "      <td>NaN</td>\n",
              "      <td>NaN</td>\n",
              "      <td>4.00</td>\n",
              "      <td>2.00</td>\n",
              "    </tr>\n",
              "    <tr>\n",
              "      <th>50%</th>\n",
              "      <td>89.69</td>\n",
              "      <td>0.31</td>\n",
              "      <td>180.00</td>\n",
              "      <td>0.00</td>\n",
              "      <td>0.00</td>\n",
              "      <td>0.00</td>\n",
              "      <td>0.00</td>\n",
              "      <td>0.00</td>\n",
              "      <td>10.21</td>\n",
              "      <td>2.76</td>\n",
              "      <td>0.0</td>\n",
              "      <td>NaN</td>\n",
              "      <td>NaN</td>\n",
              "      <td>7.00</td>\n",
              "      <td>3.00</td>\n",
              "    </tr>\n",
              "    <tr>\n",
              "      <th>75%</th>\n",
              "      <td>111.07</td>\n",
              "      <td>22.09</td>\n",
              "      <td>269.35</td>\n",
              "      <td>0.35</td>\n",
              "      <td>11.40</td>\n",
              "      <td>98.00</td>\n",
              "      <td>2.79</td>\n",
              "      <td>21.97</td>\n",
              "      <td>16.62</td>\n",
              "      <td>3.79</td>\n",
              "      <td>0.0</td>\n",
              "      <td>NaN</td>\n",
              "      <td>NaN</td>\n",
              "      <td>10.00</td>\n",
              "      <td>4.00</td>\n",
              "    </tr>\n",
              "    <tr>\n",
              "      <th>max</th>\n",
              "      <td>150.92</td>\n",
              "      <td>60.93</td>\n",
              "      <td>360.00</td>\n",
              "      <td>2.06</td>\n",
              "      <td>988.53</td>\n",
              "      <td>417.34</td>\n",
              "      <td>16.86</td>\n",
              "      <td>60.93</td>\n",
              "      <td>37.39</td>\n",
              "      <td>12.34</td>\n",
              "      <td>0.0</td>\n",
              "      <td>NaN</td>\n",
              "      <td>NaN</td>\n",
              "      <td>12.00</td>\n",
              "      <td>4.00</td>\n",
              "    </tr>\n",
              "  </tbody>\n",
              "</table>\n",
              "</div>\n",
              "      <button class=\"colab-df-convert\" onclick=\"convertToInteractive('df-2b376d0b-6ed1-47a5-8f4c-4bbb58ef9755')\"\n",
              "              title=\"Convert this dataframe to an interactive table.\"\n",
              "              style=\"display:none;\">\n",
              "        \n",
              "  <svg xmlns=\"http://www.w3.org/2000/svg\" height=\"24px\"viewBox=\"0 0 24 24\"\n",
              "       width=\"24px\">\n",
              "    <path d=\"M0 0h24v24H0V0z\" fill=\"none\"/>\n",
              "    <path d=\"M18.56 5.44l.94 2.06.94-2.06 2.06-.94-2.06-.94-.94-2.06-.94 2.06-2.06.94zm-11 1L8.5 8.5l.94-2.06 2.06-.94-2.06-.94L8.5 2.5l-.94 2.06-2.06.94zm10 10l.94 2.06.94-2.06 2.06-.94-2.06-.94-.94-2.06-.94 2.06-2.06.94z\"/><path d=\"M17.41 7.96l-1.37-1.37c-.4-.4-.92-.59-1.43-.59-.52 0-1.04.2-1.43.59L10.3 9.45l-7.72 7.72c-.78.78-.78 2.05 0 2.83L4 21.41c.39.39.9.59 1.41.59.51 0 1.02-.2 1.41-.59l7.78-7.78 2.81-2.81c.8-.78.8-2.07 0-2.86zM5.41 20L4 18.59l7.72-7.72 1.47 1.35L5.41 20z\"/>\n",
              "  </svg>\n",
              "      </button>\n",
              "      \n",
              "  <style>\n",
              "    .colab-df-container {\n",
              "      display:flex;\n",
              "      flex-wrap:wrap;\n",
              "      gap: 12px;\n",
              "    }\n",
              "\n",
              "    .colab-df-convert {\n",
              "      background-color: #E8F0FE;\n",
              "      border: none;\n",
              "      border-radius: 50%;\n",
              "      cursor: pointer;\n",
              "      display: none;\n",
              "      fill: #1967D2;\n",
              "      height: 32px;\n",
              "      padding: 0 0 0 0;\n",
              "      width: 32px;\n",
              "    }\n",
              "\n",
              "    .colab-df-convert:hover {\n",
              "      background-color: #E2EBFA;\n",
              "      box-shadow: 0px 1px 2px rgba(60, 64, 67, 0.3), 0px 1px 3px 1px rgba(60, 64, 67, 0.15);\n",
              "      fill: #174EA6;\n",
              "    }\n",
              "\n",
              "    [theme=dark] .colab-df-convert {\n",
              "      background-color: #3B4455;\n",
              "      fill: #D2E3FC;\n",
              "    }\n",
              "\n",
              "    [theme=dark] .colab-df-convert:hover {\n",
              "      background-color: #434B5C;\n",
              "      box-shadow: 0px 1px 3px 1px rgba(0, 0, 0, 0.15);\n",
              "      filter: drop-shadow(0px 1px 2px rgba(0, 0, 0, 0.3));\n",
              "      fill: #FFFFFF;\n",
              "    }\n",
              "  </style>\n",
              "\n",
              "      <script>\n",
              "        const buttonEl =\n",
              "          document.querySelector('#df-2b376d0b-6ed1-47a5-8f4c-4bbb58ef9755 button.colab-df-convert');\n",
              "        buttonEl.style.display =\n",
              "          google.colab.kernel.accessAllowed ? 'block' : 'none';\n",
              "\n",
              "        async function convertToInteractive(key) {\n",
              "          const element = document.querySelector('#df-2b376d0b-6ed1-47a5-8f4c-4bbb58ef9755');\n",
              "          const dataTable =\n",
              "            await google.colab.kernel.invokeFunction('convertToInteractive',\n",
              "                                                     [key], {});\n",
              "          if (!dataTable) return;\n",
              "\n",
              "          const docLinkHtml = 'Like what you see? Visit the ' +\n",
              "            '<a target=\"_blank\" href=https://colab.research.google.com/notebooks/data_table.ipynb>data table notebook</a>'\n",
              "            + ' to learn more about interactive tables.';\n",
              "          element.innerHTML = '';\n",
              "          dataTable['output_type'] = 'display_data';\n",
              "          await google.colab.output.renderOutput(dataTable, element);\n",
              "          const docLink = document.createElement('div');\n",
              "          docLink.innerHTML = docLinkHtml;\n",
              "          element.appendChild(docLink);\n",
              "        }\n",
              "      </script>\n",
              "    </div>\n",
              "  </div>\n",
              "  "
            ]
          },
          "metadata": {},
          "execution_count": 11
        }
      ],
      "source": [
        "df.describe(include= \"all\").round(2)"
      ]
    },
    {
      "cell_type": "markdown",
      "id": "cb4deabb",
      "metadata": {
        "id": "cb4deabb"
      },
      "source": [
        "Observing if the dataset has missing values"
      ]
    },
    {
      "cell_type": "code",
      "execution_count": null,
      "id": "8b1f1bd6",
      "metadata": {
        "colab": {
          "base_uri": "https://localhost:8080/"
        },
        "id": "8b1f1bd6",
        "outputId": "3bc693b3-2a6e-4ceb-a47f-6fac7376d3c6"
      },
      "outputs": [
        {
          "output_type": "execute_result",
          "data": {
            "text/plain": [
              "zenith                0\n",
              "elevation             0\n",
              "azimuth               0\n",
              "P                     0\n",
              "poa_direct            0\n",
              "poa_sky_diffuse       0\n",
              "poa_ground_diffuse    0\n",
              "solar_elevation       0\n",
              "temp_air              0\n",
              "wind_speed            0\n",
              "Int                   0\n",
              "date                  0\n",
              "location              0\n",
              "month                 0\n",
              "season                0\n",
              "dtype: int64"
            ]
          },
          "metadata": {},
          "execution_count": 12
        }
      ],
      "source": [
        "df.isna().sum()"
      ]
    },
    {
      "cell_type": "code",
      "execution_count": null,
      "id": "b9c92fbb",
      "metadata": {
        "colab": {
          "base_uri": "https://localhost:8080/"
        },
        "id": "b9c92fbb",
        "outputId": "685b5edc-507d-4907-ddf2-7d054a7b8ed8"
      },
      "outputs": [
        {
          "output_type": "execute_result",
          "data": {
            "text/plain": [
              "zenith                       float64\n",
              "elevation                    float64\n",
              "azimuth                      float64\n",
              "P                            float64\n",
              "poa_direct                   float64\n",
              "poa_sky_diffuse              float64\n",
              "poa_ground_diffuse           float64\n",
              "solar_elevation              float64\n",
              "temp_air                     float64\n",
              "wind_speed                   float64\n",
              "Int                            int64\n",
              "date                  datetime64[ns]\n",
              "location                      object\n",
              "month                          int64\n",
              "season                         int64\n",
              "dtype: object"
            ]
          },
          "metadata": {},
          "execution_count": 13
        }
      ],
      "source": [
        "df.dtypes"
      ]
    },
    {
      "cell_type": "markdown",
      "id": "432c8cd2",
      "metadata": {
        "id": "432c8cd2"
      },
      "source": [
        "Observing the results of the describe function the variable INT have all values equal to 0, so it is going to be removed from the analysis"
      ]
    },
    {
      "cell_type": "code",
      "execution_count": null,
      "id": "c0f80300",
      "metadata": {
        "colab": {
          "base_uri": "https://localhost:8080/",
          "height": 242
        },
        "id": "c0f80300",
        "outputId": "1aa5611d-3e3e-4fb9-97f4-2ee23ebef7c6"
      },
      "outputs": [
        {
          "output_type": "execute_result",
          "data": {
            "text/plain": [
              "                               zenith  elevation    azimuth    P  poa_direct  \\\n",
              "time                                                                           \n",
              "2005-01-01 00:11:00+00:00  148.280002 -58.280002  27.496315  0.0         0.0   \n",
              "2005-01-01 00:11:00+00:00  148.280002 -58.280002  27.496315  0.0         0.0   \n",
              "\n",
              "                           poa_sky_diffuse  poa_ground_diffuse  \\\n",
              "time                                                             \n",
              "2005-01-01 00:11:00+00:00              0.0                 0.0   \n",
              "2005-01-01 00:11:00+00:00              0.0                 0.0   \n",
              "\n",
              "                           solar_elevation  temp_air  wind_speed       date  \\\n",
              "time                                                                          \n",
              "2005-01-01 00:11:00+00:00              0.0      6.79        3.66 2005-01-01   \n",
              "2005-01-01 00:11:00+00:00              0.0      6.79        3.66 2005-01-01   \n",
              "\n",
              "                          location  month  season  \n",
              "time                                               \n",
              "2005-01-01 00:11:00+00:00     back      1       1  \n",
              "2005-01-01 00:11:00+00:00    front      1       1  "
            ],
            "text/html": [
              "\n",
              "  <div id=\"df-6126dbd0-5386-423d-8556-4a3340b5de82\">\n",
              "    <div class=\"colab-df-container\">\n",
              "      <div>\n",
              "<style scoped>\n",
              "    .dataframe tbody tr th:only-of-type {\n",
              "        vertical-align: middle;\n",
              "    }\n",
              "\n",
              "    .dataframe tbody tr th {\n",
              "        vertical-align: top;\n",
              "    }\n",
              "\n",
              "    .dataframe thead th {\n",
              "        text-align: right;\n",
              "    }\n",
              "</style>\n",
              "<table border=\"1\" class=\"dataframe\">\n",
              "  <thead>\n",
              "    <tr style=\"text-align: right;\">\n",
              "      <th></th>\n",
              "      <th>zenith</th>\n",
              "      <th>elevation</th>\n",
              "      <th>azimuth</th>\n",
              "      <th>P</th>\n",
              "      <th>poa_direct</th>\n",
              "      <th>poa_sky_diffuse</th>\n",
              "      <th>poa_ground_diffuse</th>\n",
              "      <th>solar_elevation</th>\n",
              "      <th>temp_air</th>\n",
              "      <th>wind_speed</th>\n",
              "      <th>date</th>\n",
              "      <th>location</th>\n",
              "      <th>month</th>\n",
              "      <th>season</th>\n",
              "    </tr>\n",
              "    <tr>\n",
              "      <th>time</th>\n",
              "      <th></th>\n",
              "      <th></th>\n",
              "      <th></th>\n",
              "      <th></th>\n",
              "      <th></th>\n",
              "      <th></th>\n",
              "      <th></th>\n",
              "      <th></th>\n",
              "      <th></th>\n",
              "      <th></th>\n",
              "      <th></th>\n",
              "      <th></th>\n",
              "      <th></th>\n",
              "      <th></th>\n",
              "    </tr>\n",
              "  </thead>\n",
              "  <tbody>\n",
              "    <tr>\n",
              "      <th>2005-01-01 00:11:00+00:00</th>\n",
              "      <td>148.280002</td>\n",
              "      <td>-58.280002</td>\n",
              "      <td>27.496315</td>\n",
              "      <td>0.0</td>\n",
              "      <td>0.0</td>\n",
              "      <td>0.0</td>\n",
              "      <td>0.0</td>\n",
              "      <td>0.0</td>\n",
              "      <td>6.79</td>\n",
              "      <td>3.66</td>\n",
              "      <td>2005-01-01</td>\n",
              "      <td>back</td>\n",
              "      <td>1</td>\n",
              "      <td>1</td>\n",
              "    </tr>\n",
              "    <tr>\n",
              "      <th>2005-01-01 00:11:00+00:00</th>\n",
              "      <td>148.280002</td>\n",
              "      <td>-58.280002</td>\n",
              "      <td>27.496315</td>\n",
              "      <td>0.0</td>\n",
              "      <td>0.0</td>\n",
              "      <td>0.0</td>\n",
              "      <td>0.0</td>\n",
              "      <td>0.0</td>\n",
              "      <td>6.79</td>\n",
              "      <td>3.66</td>\n",
              "      <td>2005-01-01</td>\n",
              "      <td>front</td>\n",
              "      <td>1</td>\n",
              "      <td>1</td>\n",
              "    </tr>\n",
              "  </tbody>\n",
              "</table>\n",
              "</div>\n",
              "      <button class=\"colab-df-convert\" onclick=\"convertToInteractive('df-6126dbd0-5386-423d-8556-4a3340b5de82')\"\n",
              "              title=\"Convert this dataframe to an interactive table.\"\n",
              "              style=\"display:none;\">\n",
              "        \n",
              "  <svg xmlns=\"http://www.w3.org/2000/svg\" height=\"24px\"viewBox=\"0 0 24 24\"\n",
              "       width=\"24px\">\n",
              "    <path d=\"M0 0h24v24H0V0z\" fill=\"none\"/>\n",
              "    <path d=\"M18.56 5.44l.94 2.06.94-2.06 2.06-.94-2.06-.94-.94-2.06-.94 2.06-2.06.94zm-11 1L8.5 8.5l.94-2.06 2.06-.94-2.06-.94L8.5 2.5l-.94 2.06-2.06.94zm10 10l.94 2.06.94-2.06 2.06-.94-2.06-.94-.94-2.06-.94 2.06-2.06.94z\"/><path d=\"M17.41 7.96l-1.37-1.37c-.4-.4-.92-.59-1.43-.59-.52 0-1.04.2-1.43.59L10.3 9.45l-7.72 7.72c-.78.78-.78 2.05 0 2.83L4 21.41c.39.39.9.59 1.41.59.51 0 1.02-.2 1.41-.59l7.78-7.78 2.81-2.81c.8-.78.8-2.07 0-2.86zM5.41 20L4 18.59l7.72-7.72 1.47 1.35L5.41 20z\"/>\n",
              "  </svg>\n",
              "      </button>\n",
              "      \n",
              "  <style>\n",
              "    .colab-df-container {\n",
              "      display:flex;\n",
              "      flex-wrap:wrap;\n",
              "      gap: 12px;\n",
              "    }\n",
              "\n",
              "    .colab-df-convert {\n",
              "      background-color: #E8F0FE;\n",
              "      border: none;\n",
              "      border-radius: 50%;\n",
              "      cursor: pointer;\n",
              "      display: none;\n",
              "      fill: #1967D2;\n",
              "      height: 32px;\n",
              "      padding: 0 0 0 0;\n",
              "      width: 32px;\n",
              "    }\n",
              "\n",
              "    .colab-df-convert:hover {\n",
              "      background-color: #E2EBFA;\n",
              "      box-shadow: 0px 1px 2px rgba(60, 64, 67, 0.3), 0px 1px 3px 1px rgba(60, 64, 67, 0.15);\n",
              "      fill: #174EA6;\n",
              "    }\n",
              "\n",
              "    [theme=dark] .colab-df-convert {\n",
              "      background-color: #3B4455;\n",
              "      fill: #D2E3FC;\n",
              "    }\n",
              "\n",
              "    [theme=dark] .colab-df-convert:hover {\n",
              "      background-color: #434B5C;\n",
              "      box-shadow: 0px 1px 3px 1px rgba(0, 0, 0, 0.15);\n",
              "      filter: drop-shadow(0px 1px 2px rgba(0, 0, 0, 0.3));\n",
              "      fill: #FFFFFF;\n",
              "    }\n",
              "  </style>\n",
              "\n",
              "      <script>\n",
              "        const buttonEl =\n",
              "          document.querySelector('#df-6126dbd0-5386-423d-8556-4a3340b5de82 button.colab-df-convert');\n",
              "        buttonEl.style.display =\n",
              "          google.colab.kernel.accessAllowed ? 'block' : 'none';\n",
              "\n",
              "        async function convertToInteractive(key) {\n",
              "          const element = document.querySelector('#df-6126dbd0-5386-423d-8556-4a3340b5de82');\n",
              "          const dataTable =\n",
              "            await google.colab.kernel.invokeFunction('convertToInteractive',\n",
              "                                                     [key], {});\n",
              "          if (!dataTable) return;\n",
              "\n",
              "          const docLinkHtml = 'Like what you see? Visit the ' +\n",
              "            '<a target=\"_blank\" href=https://colab.research.google.com/notebooks/data_table.ipynb>data table notebook</a>'\n",
              "            + ' to learn more about interactive tables.';\n",
              "          element.innerHTML = '';\n",
              "          dataTable['output_type'] = 'display_data';\n",
              "          await google.colab.output.renderOutput(dataTable, element);\n",
              "          const docLink = document.createElement('div');\n",
              "          docLink.innerHTML = docLinkHtml;\n",
              "          element.appendChild(docLink);\n",
              "        }\n",
              "      </script>\n",
              "    </div>\n",
              "  </div>\n",
              "  "
            ]
          },
          "metadata": {},
          "execution_count": 14
        }
      ],
      "source": [
        "df.drop(columns =\"Int\", inplace=True)\n",
        "df.head(2)"
      ]
    },
    {
      "cell_type": "markdown",
      "id": "c71d7402",
      "metadata": {
        "id": "c71d7402"
      },
      "source": [
        "Exploring the variables, searching for possibles outliers"
      ]
    },
    {
      "cell_type": "code",
      "execution_count": null,
      "id": "9fe86e48",
      "metadata": {
        "id": "9fe86e48"
      },
      "outputs": [],
      "source": [
        "import numpy as np\n",
        "import seaborn as sns \n",
        "sns.set() "
      ]
    },
    {
      "cell_type": "markdown",
      "id": "030b57c0",
      "metadata": {
        "id": "030b57c0"
      },
      "source": [
        "To use seaborn library for plotting, the index of the dataframe needs to be unique. The I reseted the index using the **reset_index** function."
      ]
    },
    {
      "cell_type": "code",
      "execution_count": null,
      "id": "6224afb7",
      "metadata": {
        "colab": {
          "base_uri": "https://localhost:8080/",
          "height": 308
        },
        "id": "6224afb7",
        "outputId": "7ffbd723-6607-4d91-90dc-e1b1133b57f8"
      },
      "outputs": [
        {
          "output_type": "execute_result",
          "data": {
            "text/plain": [
              "                       time      zenith  elevation    azimuth    P  \\\n",
              "0 2005-01-01 00:11:00+00:00  148.280002 -58.280002  27.496315  0.0   \n",
              "1 2005-01-01 00:11:00+00:00  148.280002 -58.280002  27.496315  0.0   \n",
              "2 2005-01-01 01:11:00+00:00  142.557186 -52.557186  49.775589  0.0   \n",
              "3 2005-01-01 01:11:00+00:00  142.557186 -52.557186  49.775589  0.0   \n",
              "\n",
              "   poa_direct  poa_sky_diffuse  poa_ground_diffuse  solar_elevation  temp_air  \\\n",
              "0         0.0              0.0                 0.0              0.0      6.79   \n",
              "1         0.0              0.0                 0.0              0.0      6.79   \n",
              "2         0.0              0.0                 0.0              0.0      6.72   \n",
              "3         0.0              0.0                 0.0              0.0      6.72   \n",
              "\n",
              "   wind_speed       date location  month  season  \n",
              "0        3.66 2005-01-01     back      1       1  \n",
              "1        3.66 2005-01-01    front      1       1  \n",
              "2        3.52 2005-01-01     back      1       1  \n",
              "3        3.52 2005-01-01    front      1       1  "
            ],
            "text/html": [
              "\n",
              "  <div id=\"df-e3e88463-a058-4183-8899-f000eca91c80\">\n",
              "    <div class=\"colab-df-container\">\n",
              "      <div>\n",
              "<style scoped>\n",
              "    .dataframe tbody tr th:only-of-type {\n",
              "        vertical-align: middle;\n",
              "    }\n",
              "\n",
              "    .dataframe tbody tr th {\n",
              "        vertical-align: top;\n",
              "    }\n",
              "\n",
              "    .dataframe thead th {\n",
              "        text-align: right;\n",
              "    }\n",
              "</style>\n",
              "<table border=\"1\" class=\"dataframe\">\n",
              "  <thead>\n",
              "    <tr style=\"text-align: right;\">\n",
              "      <th></th>\n",
              "      <th>time</th>\n",
              "      <th>zenith</th>\n",
              "      <th>elevation</th>\n",
              "      <th>azimuth</th>\n",
              "      <th>P</th>\n",
              "      <th>poa_direct</th>\n",
              "      <th>poa_sky_diffuse</th>\n",
              "      <th>poa_ground_diffuse</th>\n",
              "      <th>solar_elevation</th>\n",
              "      <th>temp_air</th>\n",
              "      <th>wind_speed</th>\n",
              "      <th>date</th>\n",
              "      <th>location</th>\n",
              "      <th>month</th>\n",
              "      <th>season</th>\n",
              "    </tr>\n",
              "  </thead>\n",
              "  <tbody>\n",
              "    <tr>\n",
              "      <th>0</th>\n",
              "      <td>2005-01-01 00:11:00+00:00</td>\n",
              "      <td>148.280002</td>\n",
              "      <td>-58.280002</td>\n",
              "      <td>27.496315</td>\n",
              "      <td>0.0</td>\n",
              "      <td>0.0</td>\n",
              "      <td>0.0</td>\n",
              "      <td>0.0</td>\n",
              "      <td>0.0</td>\n",
              "      <td>6.79</td>\n",
              "      <td>3.66</td>\n",
              "      <td>2005-01-01</td>\n",
              "      <td>back</td>\n",
              "      <td>1</td>\n",
              "      <td>1</td>\n",
              "    </tr>\n",
              "    <tr>\n",
              "      <th>1</th>\n",
              "      <td>2005-01-01 00:11:00+00:00</td>\n",
              "      <td>148.280002</td>\n",
              "      <td>-58.280002</td>\n",
              "      <td>27.496315</td>\n",
              "      <td>0.0</td>\n",
              "      <td>0.0</td>\n",
              "      <td>0.0</td>\n",
              "      <td>0.0</td>\n",
              "      <td>0.0</td>\n",
              "      <td>6.79</td>\n",
              "      <td>3.66</td>\n",
              "      <td>2005-01-01</td>\n",
              "      <td>front</td>\n",
              "      <td>1</td>\n",
              "      <td>1</td>\n",
              "    </tr>\n",
              "    <tr>\n",
              "      <th>2</th>\n",
              "      <td>2005-01-01 01:11:00+00:00</td>\n",
              "      <td>142.557186</td>\n",
              "      <td>-52.557186</td>\n",
              "      <td>49.775589</td>\n",
              "      <td>0.0</td>\n",
              "      <td>0.0</td>\n",
              "      <td>0.0</td>\n",
              "      <td>0.0</td>\n",
              "      <td>0.0</td>\n",
              "      <td>6.72</td>\n",
              "      <td>3.52</td>\n",
              "      <td>2005-01-01</td>\n",
              "      <td>back</td>\n",
              "      <td>1</td>\n",
              "      <td>1</td>\n",
              "    </tr>\n",
              "    <tr>\n",
              "      <th>3</th>\n",
              "      <td>2005-01-01 01:11:00+00:00</td>\n",
              "      <td>142.557186</td>\n",
              "      <td>-52.557186</td>\n",
              "      <td>49.775589</td>\n",
              "      <td>0.0</td>\n",
              "      <td>0.0</td>\n",
              "      <td>0.0</td>\n",
              "      <td>0.0</td>\n",
              "      <td>0.0</td>\n",
              "      <td>6.72</td>\n",
              "      <td>3.52</td>\n",
              "      <td>2005-01-01</td>\n",
              "      <td>front</td>\n",
              "      <td>1</td>\n",
              "      <td>1</td>\n",
              "    </tr>\n",
              "  </tbody>\n",
              "</table>\n",
              "</div>\n",
              "      <button class=\"colab-df-convert\" onclick=\"convertToInteractive('df-e3e88463-a058-4183-8899-f000eca91c80')\"\n",
              "              title=\"Convert this dataframe to an interactive table.\"\n",
              "              style=\"display:none;\">\n",
              "        \n",
              "  <svg xmlns=\"http://www.w3.org/2000/svg\" height=\"24px\"viewBox=\"0 0 24 24\"\n",
              "       width=\"24px\">\n",
              "    <path d=\"M0 0h24v24H0V0z\" fill=\"none\"/>\n",
              "    <path d=\"M18.56 5.44l.94 2.06.94-2.06 2.06-.94-2.06-.94-.94-2.06-.94 2.06-2.06.94zm-11 1L8.5 8.5l.94-2.06 2.06-.94-2.06-.94L8.5 2.5l-.94 2.06-2.06.94zm10 10l.94 2.06.94-2.06 2.06-.94-2.06-.94-.94-2.06-.94 2.06-2.06.94z\"/><path d=\"M17.41 7.96l-1.37-1.37c-.4-.4-.92-.59-1.43-.59-.52 0-1.04.2-1.43.59L10.3 9.45l-7.72 7.72c-.78.78-.78 2.05 0 2.83L4 21.41c.39.39.9.59 1.41.59.51 0 1.02-.2 1.41-.59l7.78-7.78 2.81-2.81c.8-.78.8-2.07 0-2.86zM5.41 20L4 18.59l7.72-7.72 1.47 1.35L5.41 20z\"/>\n",
              "  </svg>\n",
              "      </button>\n",
              "      \n",
              "  <style>\n",
              "    .colab-df-container {\n",
              "      display:flex;\n",
              "      flex-wrap:wrap;\n",
              "      gap: 12px;\n",
              "    }\n",
              "\n",
              "    .colab-df-convert {\n",
              "      background-color: #E8F0FE;\n",
              "      border: none;\n",
              "      border-radius: 50%;\n",
              "      cursor: pointer;\n",
              "      display: none;\n",
              "      fill: #1967D2;\n",
              "      height: 32px;\n",
              "      padding: 0 0 0 0;\n",
              "      width: 32px;\n",
              "    }\n",
              "\n",
              "    .colab-df-convert:hover {\n",
              "      background-color: #E2EBFA;\n",
              "      box-shadow: 0px 1px 2px rgba(60, 64, 67, 0.3), 0px 1px 3px 1px rgba(60, 64, 67, 0.15);\n",
              "      fill: #174EA6;\n",
              "    }\n",
              "\n",
              "    [theme=dark] .colab-df-convert {\n",
              "      background-color: #3B4455;\n",
              "      fill: #D2E3FC;\n",
              "    }\n",
              "\n",
              "    [theme=dark] .colab-df-convert:hover {\n",
              "      background-color: #434B5C;\n",
              "      box-shadow: 0px 1px 3px 1px rgba(0, 0, 0, 0.15);\n",
              "      filter: drop-shadow(0px 1px 2px rgba(0, 0, 0, 0.3));\n",
              "      fill: #FFFFFF;\n",
              "    }\n",
              "  </style>\n",
              "\n",
              "      <script>\n",
              "        const buttonEl =\n",
              "          document.querySelector('#df-e3e88463-a058-4183-8899-f000eca91c80 button.colab-df-convert');\n",
              "        buttonEl.style.display =\n",
              "          google.colab.kernel.accessAllowed ? 'block' : 'none';\n",
              "\n",
              "        async function convertToInteractive(key) {\n",
              "          const element = document.querySelector('#df-e3e88463-a058-4183-8899-f000eca91c80');\n",
              "          const dataTable =\n",
              "            await google.colab.kernel.invokeFunction('convertToInteractive',\n",
              "                                                     [key], {});\n",
              "          if (!dataTable) return;\n",
              "\n",
              "          const docLinkHtml = 'Like what you see? Visit the ' +\n",
              "            '<a target=\"_blank\" href=https://colab.research.google.com/notebooks/data_table.ipynb>data table notebook</a>'\n",
              "            + ' to learn more about interactive tables.';\n",
              "          element.innerHTML = '';\n",
              "          dataTable['output_type'] = 'display_data';\n",
              "          await google.colab.output.renderOutput(dataTable, element);\n",
              "          const docLink = document.createElement('div');\n",
              "          docLink.innerHTML = docLinkHtml;\n",
              "          element.appendChild(docLink);\n",
              "        }\n",
              "      </script>\n",
              "    </div>\n",
              "  </div>\n",
              "  "
            ]
          },
          "metadata": {},
          "execution_count": 16
        }
      ],
      "source": [
        "df.reset_index(inplace=True)\n",
        "df.head(4)"
      ]
    },
    {
      "cell_type": "markdown",
      "source": [
        "## <font color=\"Orange\">  Option to download the dataframe as csv. <font>"
      ],
      "metadata": {
        "id": "71rbQ21TrzYV"
      },
      "id": "71rbQ21TrzYV"
    },
    {
      "cell_type": "markdown",
      "id": "3db7cac4",
      "metadata": {
        "id": "3db7cac4"
      },
      "source": [
        "If you're using the google colab and want to download the dataframe with the **PV data** just run the cell just below."
      ]
    },
    {
      "cell_type": "code",
      "execution_count": null,
      "id": "5684dab3",
      "metadata": {
        "colab": {
          "base_uri": "https://localhost:8080/",
          "height": 17
        },
        "id": "5684dab3",
        "outputId": "b70da4cf-ad7c-4dbb-c51c-2a8db6f7531e"
      },
      "outputs": [
        {
          "output_type": "display_data",
          "data": {
            "text/plain": [
              "<IPython.core.display.Javascript object>"
            ],
            "application/javascript": [
              "\n",
              "    async function download(id, filename, size) {\n",
              "      if (!google.colab.kernel.accessAllowed) {\n",
              "        return;\n",
              "      }\n",
              "      const div = document.createElement('div');\n",
              "      const label = document.createElement('label');\n",
              "      label.textContent = `Downloading \"${filename}\": `;\n",
              "      div.appendChild(label);\n",
              "      const progress = document.createElement('progress');\n",
              "      progress.max = size;\n",
              "      div.appendChild(progress);\n",
              "      document.body.appendChild(div);\n",
              "\n",
              "      const buffers = [];\n",
              "      let downloaded = 0;\n",
              "\n",
              "      const channel = await google.colab.kernel.comms.open(id);\n",
              "      // Send a message to notify the kernel that we're ready.\n",
              "      channel.send({})\n",
              "\n",
              "      for await (const message of channel.messages) {\n",
              "        // Send a message to notify the kernel that we're ready.\n",
              "        channel.send({})\n",
              "        if (message.buffers) {\n",
              "          for (const buffer of message.buffers) {\n",
              "            buffers.push(buffer);\n",
              "            downloaded += buffer.byteLength;\n",
              "            progress.value = downloaded;\n",
              "          }\n",
              "        }\n",
              "      }\n",
              "      const blob = new Blob(buffers, {type: 'application/binary'});\n",
              "      const a = document.createElement('a');\n",
              "      a.href = window.URL.createObjectURL(blob);\n",
              "      a.download = filename;\n",
              "      div.appendChild(a);\n",
              "      a.click();\n",
              "      div.remove();\n",
              "    }\n",
              "  "
            ]
          },
          "metadata": {}
        },
        {
          "output_type": "display_data",
          "data": {
            "text/plain": [
              "<IPython.core.display.Javascript object>"
            ],
            "application/javascript": [
              "download(\"download_9fec9afd-675d-48b0-b62b-0669084d087d\", \"pv_data.csv\", 40883206)"
            ]
          },
          "metadata": {}
        }
      ],
      "source": [
        "'''\n",
        "from google.colab import files\n",
        "df.to_csv('pv_data.csv') \n",
        "files.download('pv_data.csv')\n",
        "'''"
      ]
    },
    {
      "cell_type": "markdown",
      "id": "b9d2212f",
      "metadata": {
        "id": "b9d2212f"
      },
      "source": [
        "To do the same using a **local software**, for example Jupyter notebook run this cell instead."
      ]
    },
    {
      "cell_type": "code",
      "execution_count": null,
      "id": "ba96e200",
      "metadata": {
        "colab": {
          "base_uri": "https://localhost:8080/",
          "height": 35
        },
        "id": "ba96e200",
        "outputId": "1d612487-eb4b-428e-afde-a579231475e2"
      },
      "outputs": [
        {
          "output_type": "execute_result",
          "data": {
            "text/plain": [
              "\"\\n\\ndf.to_csv(/'pv_data.csv', index=False)\\n\\n\""
            ],
            "application/vnd.google.colaboratory.intrinsic+json": {
              "type": "string"
            }
          },
          "metadata": {},
          "execution_count": 18
        }
      ],
      "source": [
        "'''\n",
        "\n",
        "df.to_csv(/'pv_data.csv', index=False)\n",
        "\n",
        "'''"
      ]
    },
    {
      "cell_type": "markdown",
      "id": "13dcd638",
      "metadata": {
        "id": "13dcd638"
      },
      "source": [
        "### <font color = \"Yellow\"> **Plotting some relevant parameters to a PV project** </font>"
      ]
    },
    {
      "cell_type": "code",
      "execution_count": null,
      "id": "2143efb5",
      "metadata": {
        "colab": {
          "base_uri": "https://localhost:8080/",
          "height": 540
        },
        "id": "2143efb5",
        "outputId": "3a24fc12-eb1f-4cef-b1f2-879b4d5df346"
      },
      "outputs": [
        {
          "output_type": "execute_result",
          "data": {
            "text/plain": [
              "<function matplotlib.pyplot.show(close=None, block=None)>"
            ]
          },
          "metadata": {},
          "execution_count": 26
        },
        {
          "output_type": "display_data",
          "data": {
            "text/plain": [
              "<Figure size 1152x576 with 1 Axes>"
            ],
            "image/png": "[encoded data removed]"
          },
          "metadata": {}
        }
      ],
      "source": [
        "plt.figure(figsize = (16,8))\n",
        "ax = sns.histplot(data=df[df !=0], x='P', kde=True, bins= 100) #Ignoring the values that are equal to 0\n",
        "ax.set_title(\"Power Values (KWh) - 2005 to 2020\", fontsize=18)\n",
        "ax.set(xlabel =\"Power (KWh)\", ylabel = \"Number of Observations\")\n",
        "plt.ylim((0,4500))\n",
        "plt.xlim((0.12, 2))\n",
        "x_ticks = np.arange(0.1, 2.0, 0.25)\n",
        "#plt.xticks(x_ticks, rotation=45)\n",
        "#plt.ticklabel_format(style='plain', axis='x') \n",
        "ax = ax\n",
        "plt.show\n"
      ]
    },
    {
      "cell_type": "code",
      "execution_count": null,
      "id": "27c0bd0c",
      "metadata": {
        "colab": {
          "base_uri": "https://localhost:8080/",
          "height": 1000
        },
        "id": "27c0bd0c",
        "outputId": "f2c981a1-6664-44e0-e961-bbcf64dbf47f"
      },
      "outputs": [
        {
          "output_type": "display_data",
          "data": {
            "text/plain": [
              "<Figure size 432x288 with 0 Axes>"
            ]
          },
          "metadata": {}
        },
        {
          "output_type": "display_data",
          "data": {
            "text/plain": [
              "<Figure size 1152x576 with 1 Axes>"
            ],
            "image/png": "[encoded data removed]"
          },
          "metadata": {}
        },
        {
          "output_type": "display_data",
          "data": {
            "text/plain": [
              "<Figure size 432x288 with 0 Axes>"
            ]
          },
          "metadata": {}
        },
        {
          "output_type": "display_data",
          "data": {
            "text/plain": [
              "<Figure size 1152x576 with 1 Axes>"
            ],
            "image/png": "[encoded data removed]"
          },
          "metadata": {}
        },
        {
          "output_type": "display_data",
          "data": {
            "text/plain": [
              "<Figure size 432x288 with 0 Axes>"
            ]
          },
          "metadata": {}
        },
        {
          "output_type": "display_data",
          "data": {
            "text/plain": [
              "<Figure size 1152x576 with 1 Axes>"
            ],
            "image/png": "[encoded data removed]"
          },
          "metadata": {}
        },
        {
          "output_type": "display_data",
          "data": {
            "text/plain": [
              "<Figure size 432x288 with 0 Axes>"
            ]
          },
          "metadata": {}
        },
        {
          "output_type": "display_data",
          "data": {
            "text/plain": [
              "<Figure size 1152x576 with 1 Axes>"
            ],
            "image/png": "[encoded data removed]"
          },
          "metadata": {}
        },
        {
          "output_type": "display_data",
          "data": {
            "text/plain": [
              "<Figure size 432x288 with 0 Axes>"
            ]
          },
          "metadata": {}
        },
        {
          "output_type": "display_data",
          "data": {
            "text/plain": [
              "<Figure size 1152x576 with 1 Axes>"
            ],
            "image/png": "[encoded data removed]"
          },
          "metadata": {}
        }
      ],
      "source": [
        "column_plot =[\"poa_direct\",\"poa_sky_diffuse\", \"poa_ground_diffuse\",\"temp_air\",\"wind_speed\"]\n",
        "for column in column_plot:\n",
        "    plt.figure()\n",
        "    plt.figure(figsize = (16,8))\n",
        "    ax = sns.histplot(data=df[df !=0], x=column, kde=True, bins= 100) #Ignoring the values that are equal to 0\n",
        "    splitcolumn = column.split(\"_\")\n",
        "    title = \"\"\n",
        "    for name in splitcolumn:\n",
        "        x_title = name.title()\n",
        "        title += x_title + \" \" \n",
        "    ax.set_title(title + \" Values - 2005 to 2020\", fontsize=18)\n",
        "    title = \"\"\n",
        "    if column == \"poa_direct\":\n",
        "        LowerLimit = 0\n",
        "        UpperLimit = 6000\n",
        "    elif column == \"poa_sky_diffuse\": \n",
        "        LowerLimit = 0\n",
        "        UpperLimit = 3500\n",
        "    elif column == \"poa_ground_diffuse\": \n",
        "        LowerLimit = 0\n",
        "        UpperLimit = 5500\n",
        "    elif column == \"temp_air\": \n",
        "        LowerLimit = 0\n",
        "        UpperLimit = 7500\n",
        "    elif column == \"wind_speed\": \n",
        "        LowerLimit = 0\n",
        "        UpperLimit = 14500    \n",
        "    plt.ylim((LowerLimit,UpperLimit))\n",
        "    \n",
        "    ax = ax\n",
        "    plt.show"
      ]
    },
    {
      "cell_type": "markdown",
      "source": [],
      "metadata": {
        "id": "ScA_5mfLqyhR"
      },
      "id": "ScA_5mfLqyhR"
    }
  ],
  "metadata": {
    "kernelspec": {
      "display_name": "Python 3 (ipykernel)",
      "language": "python",
      "name": "python3"
    },
    "language_info": {
      "codemirror_mode": {
        "name": "ipython",
        "version": 3
      },
      "file_extension": ".py",
      "mimetype": "text/x-python",
      "name": "python",
      "nbconvert_exporter": "python",
      "pygments_lexer": "ipython3",
      "version": "3.9.13"
    },
    "colab": {
      "provenance": []
    }
  },
  "nbformat": 4,
  "nbformat_minor": 5
}